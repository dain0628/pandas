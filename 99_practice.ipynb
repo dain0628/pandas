{
 "cells": [
  {
   "cell_type": "code",
   "execution_count": 1,
   "id": "e31e15db-cf53-4e04-afc3-2bab67223abc",
   "metadata": {},
   "outputs": [],
   "source": [
    "import pandas as pd\n",
    "import seaborn as sns"
   ]
  },
  {
   "cell_type": "code",
   "execution_count": 5,
   "id": "622df5fb-fda9-4d3b-8906-74a4958994f1",
   "metadata": {},
   "outputs": [],
   "source": [
    "df = sns.load_dataset('penguins')"
   ]
  },
  {
   "cell_type": "code",
   "execution_count": null,
   "id": "90ad6c2d-8ca0-48c4-8851-bb8a5e0b2d4f",
   "metadata": {},
   "outputs": [],
   "source": [
    "# 5000g 이상의 펭귄 출력"
   ]
  },
  {
   "cell_type": "code",
   "execution_count": 10,
   "id": "1fdcbb30-87c5-4846-9e15-bf90ebce2f46",
   "metadata": {},
   "outputs": [],
   "source": [
    "# Gentoo종의 flipper_length 평균"
   ]
  },
  {
   "cell_type": "code",
   "execution_count": 14,
   "id": "e921c5ab-faed-46ab-898b-db169aecd2d1",
   "metadata": {},
   "outputs": [],
   "source": [
    "# Female Chinstrap종의 bill_length 높은순 정렬"
   ]
  },
  {
   "cell_type": "code",
   "execution_count": null,
   "id": "cc44e939-b061-43b9-98a5-517c04981686",
   "metadata": {},
   "outputs": [],
   "source": [
    "# species(종)별 성별 구분하여 평균 몸무게 출력\n",
    "# => ex) Adelie, Female / Adelie, male / Gentoo, Female..."
   ]
  },
  {
   "cell_type": "code",
   "execution_count": null,
   "id": "e2a72144-277e-44ec-a335-06cd805e8a31",
   "metadata": {},
   "outputs": [],
   "source": [
    "# bill_depth 결측치 채우기\n",
    "# => 같은종 같은섬의 평균으로"
   ]
  }
 ],
 "metadata": {
  "kernelspec": {
   "display_name": "Python 3 (ipykernel)",
   "language": "python",
   "name": "python3"
  },
  "language_info": {
   "codemirror_mode": {
    "name": "ipython",
    "version": 3
   },
   "file_extension": ".py",
   "mimetype": "text/x-python",
   "name": "python",
   "nbconvert_exporter": "python",
   "pygments_lexer": "ipython3",
   "version": "3.13.2"
  }
 },
 "nbformat": 4,
 "nbformat_minor": 5
}
